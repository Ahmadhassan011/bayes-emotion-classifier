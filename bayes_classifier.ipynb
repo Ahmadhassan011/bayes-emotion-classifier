{
  "nbformat": 4,
  "nbformat_minor": 0,
  "metadata": {
    "colab": {
      "provenance": []
    },
    "kernelspec": {
      "name": "python3",
      "display_name": "Python 3"
    },
    "language_info": {
      "name": "python"
    }
  },
  "cells": [
    {
      "cell_type": "markdown",
      "source": [
        "# **Importing Libraries**"
      ],
      "metadata": {
        "id": "drp-7cEIiw4o"
      }
    },
    {
      "cell_type": "code",
      "source": [
        "import pandas as pd\n",
        "import numpy as np\n",
        "from sklearn.preprocessing import LabelEncoder\n",
        "from sklearn.model_selection import train_test_split\n",
        "from sklearn.metrics import accuracy_score, classification_report, confusion_matrix\n",
        "import matplotlib.pyplot as plt\n",
        "import seaborn as sns\n",
        "import joblib"
      ],
      "metadata": {
        "id": "yJgoYanskJHf"
      },
      "execution_count": 17,
      "outputs": []
    },
    {
      "cell_type": "markdown",
      "source": [
        "# **Data Loading**"
      ],
      "metadata": {
        "id": "TTa7VovzjLIx"
      }
    },
    {
      "cell_type": "code",
      "source": [
        "data = pd.read_csv(\"data.csv\")"
      ],
      "metadata": {
        "id": "Bu7HlYBekXQv"
      },
      "execution_count": 18,
      "outputs": []
    },
    {
      "cell_type": "markdown",
      "source": [
        "# **Data Preprocessing**"
      ],
      "metadata": {
        "id": "wH1UXcxAjLez"
      }
    },
    {
      "cell_type": "code",
      "source": [
        "# Drop completely empty rows\n",
        "data.dropna(how='all', inplace=True)\n",
        "\n",
        "# Keep only valid Gender entries\n",
        "valid_genders = ['Male', 'Female', 'Non-binary']\n",
        "data = data[data['Gender'].isin(valid_genders)]\n",
        "\n",
        "# Clean Age: convert to numeric and keep in a realistic range\n",
        "data['Age'] = pd.to_numeric(data['Age'], errors='coerce')\n",
        "data = data[(data['Age'] >= 10) & (data['Age'] <= 100)]\n",
        "\n",
        "# Reset index after cleaning\n",
        "data.reset_index(drop=True, inplace=True)\n",
        "\n",
        "# Fill missing values with forward fill\n",
        "data.ffill(inplace=True)\n",
        "\n",
        "# Drop User_ID since it's not a feature\n",
        "if 'User_ID' in data.columns:\n",
        "    data.drop('User_ID', axis=1, inplace=True)\n",
        "\n",
        "# Label Encoding\n",
        "# Fit encoders on the *entire* data after cleaning\n",
        "le_gender = LabelEncoder()\n",
        "le_platform = LabelEncoder()\n",
        "le_emotion = LabelEncoder()\n",
        "\n",
        "data['Gender'] = le_gender.fit_transform(data['Gender'])\n",
        "data['Platform'] = le_platform.fit_transform(data['Platform'])\n",
        "data['Dominant_Emotion'] = le_emotion.fit_transform(data['Dominant_Emotion'])\n",
        "\n",
        "\n",
        "# Define features and target\n",
        "feature_cols = [\n",
        "    'Age', 'Gender', 'Platform',\n",
        "    'Daily_Usage_Time(minutes)', 'Posts_Per_Day', # Corrected column name\n",
        "    'Likes_Received_Per_Day', 'Comments_Received_Per_Day',\n",
        "    'Messages_Sent_Per_Day'\n",
        "]\n",
        "X = data[feature_cols]\n",
        "y = data['Dominant_Emotion']\n",
        "\n",
        "# Train/test split\n",
        "X_train, X_test, y_train, y_test = train_test_split(\n",
        "    X, y, test_size=0.2, random_state=42, stratify=y\n",
        ")"
      ],
      "metadata": {
        "id": "q362WJi_kazv",
        "collapsed": true
      },
      "execution_count": null,
      "outputs": []
    },
    {
      "cell_type": "markdown",
      "source": [
        "# **Bayes Theorem Implementation**"
      ],
      "metadata": {
        "id": "SRH_9-MijLlQ"
      }
    },
    {
      "cell_type": "code",
      "source": [
        "class SimpleBayesClassifier:\n",
        "    def fit(self, X, y):\n",
        "        self.X = X\n",
        "        self.y = y\n",
        "        self.classes = y.unique()\n",
        "        self.priors = y.value_counts(normalize=True).to_dict()\n",
        "\n",
        "        self.cond_probs = {}\n",
        "        for c in self.classes:\n",
        "            self.cond_probs[c] = {}\n",
        "            X_c = X[y == c]\n",
        "            for col in X.columns:\n",
        "                self.cond_probs[c][col] = X_c[col].value_counts(normalize=True).to_dict()\n",
        "\n",
        "    def predict(self, X_test):\n",
        "        predictions = []\n",
        "        for _, row in X_test.iterrows():\n",
        "            posteriors = {}\n",
        "            for c in self.classes:\n",
        "                prob = self.priors.get(c, 1e-6)  # Start with prior\n",
        "                for col in X_test.columns:\n",
        "                    value = row[col]\n",
        "                    prob *= self.cond_probs[c][col].get(value, 1e-6)  # Use conditional probability\n",
        "                posteriors[c] = prob\n",
        "            predictions.append(max(posteriors, key=posteriors.get))\n",
        "        return predictions"
      ],
      "metadata": {
        "id": "5X6tu9HQkmNX"
      },
      "execution_count": 20,
      "outputs": []
    },
    {
      "cell_type": "markdown",
      "source": [
        "# **Model Training**"
      ],
      "metadata": {
        "id": "fvZnwaILjtVQ"
      }
    },
    {
      "cell_type": "code",
      "source": [
        "# Train custom Naive Bayes classifier\n",
        "nb_model = SimpleBayesClassifier()\n",
        "nb_model.fit(X_train, y_train)\n",
        "\n",
        "# Make predictions\n",
        "y_pred = nb_model.predict(X_test)\n",
        "\n",
        "# Save the model and encoders\n",
        "joblib.dump(nb_model, 'my_model.joblib')\n",
        "joblib.dump(le_gender, 'le_gender.joblib')\n",
        "joblib.dump(le_platform, 'le_platform.joblib')\n",
        "joblib.dump(le_emotion, 'le_emotion.joblib')"
      ],
      "metadata": {
        "id": "xSArJ_VBkpnP",
        "colab": {
          "base_uri": "https://localhost:8080/"
        },
        "outputId": "5fd92940-04b3-4119-84a9-7cd01576fb65"
      },
      "execution_count": 21,
      "outputs": [
        {
          "output_type": "execute_result",
          "data": {
            "text/plain": [
              "['le_emotion.joblib']"
            ]
          },
          "metadata": {},
          "execution_count": 21
        }
      ]
    },
    {
      "cell_type": "markdown",
      "source": [
        "# **Model Evaluation**"
      ],
      "metadata": {
        "id": "YpjJSSR6jvoj"
      }
    },
    {
      "cell_type": "code",
      "source": [
        "# Make predictions and evaluate\n",
        "y_pred = nb_model.predict(X_test)\n",
        "\n",
        "print(\"Accuracy:\", accuracy_score(y_test, y_pred))\n",
        "print(\"\\n Classification Report:\")\n",
        "print(classification_report(y_test, y_pred, target_names=le_emotion.classes_))\n",
        "\n",
        "\n",
        "#-------------------------------------------------------------------------------\n",
        "# graph of Confusion Matrix\n",
        "plt.figure(figsize=(8, 6))\n",
        "sns.heatmap(confusion_matrix(y_test, y_pred), annot=True, fmt='d', cmap='Blues',\n",
        "            xticklabels=le_emotion.classes_, yticklabels=le_emotion.classes_)\n",
        "plt.xlabel('Predicted')\n",
        "plt.ylabel('Actual')\n",
        "plt.title('Confusion Matrix')\n",
        "plt.show()\n",
        "#-------------------------------------------------------------------------------"
      ],
      "metadata": {
        "id": "U4WkxFrYk-n3",
        "colab": {
          "base_uri": "https://localhost:8080/",
          "height": 858
        },
        "outputId": "435aaa53-a0d0-413e-8f69-4c4a9d912330"
      },
      "execution_count": 22,
      "outputs": [
        {
          "output_type": "stream",
          "name": "stdout",
          "text": [
            "Accuracy: 0.8540540540540541\n",
            "\n",
            " Classification Report:\n",
            "              precision    recall  f1-score   support\n",
            "\n",
            "       Anger       0.79      0.76      0.78        25\n",
            "     Anxiety       0.96      0.84      0.90        31\n",
            "     Boredom       0.76      0.96      0.85        26\n",
            "   Happiness       0.83      0.95      0.89        37\n",
            "     Neutral       0.86      0.86      0.86        37\n",
            "     Sadness       0.95      0.72      0.82        29\n",
            "\n",
            "    accuracy                           0.85       185\n",
            "   macro avg       0.86      0.85      0.85       185\n",
            "weighted avg       0.86      0.85      0.85       185\n",
            "\n"
          ]
        },
        {
          "output_type": "display_data",
          "data": {
            "text/plain": [
              "<Figure size 800x600 with 2 Axes>"
            ],
            "image/png": "[encoded data removed]"
          },
          "metadata": {}
        }
      ]
    },
    {
      "cell_type": "markdown",
      "source": [
        "# **Predictions on New Data**"
      ],
      "metadata": {
        "id": "_Eosz66pjvsQ"
      }
    },
    {
      "cell_type": "code",
      "source": [
        "# Load model and encoders\n",
        "nb_model = joblib.load('my_model.joblib')\n",
        "le_gender = joblib.load('le_gender.joblib')\n",
        "le_platform = joblib.load('le_platform.joblib')\n",
        "le_emotion = joblib.load('le_emotion.joblib')\n",
        "\n",
        "# Example new data (replace with real input)\n",
        "new_data = pd.DataFrame({\n",
        "    'Age': [28, 35],\n",
        "    'Gender': ['Female', 'Male'],\n",
        "    'Platform': ['Instagram', 'Twitter'],\n",
        "    'Daily_Usage_Time(minutes)': [120, 90],\n",
        "    'Posts_Per_Day': [3, 2],\n",
        "    'Likes_Received_Per_Day': [150, 80],\n",
        "    'Comments_Received_Per_Day': [20, 10],\n",
        "    'Messages_Sent_Per_Day': [50, 40]\n",
        "})\n",
        "\n",
        "# Apply encodings\n",
        "new_data['Gender'] = le_gender.transform(new_data['Gender'])\n",
        "new_data['Platform'] = le_platform.transform(new_data['Platform'])\n",
        "\n",
        "# Ensure the correct column order\n",
        "feature_cols = [\n",
        "    'Age', 'Gender', 'Platform',\n",
        "    'Daily_Usage_Time(minutes)', 'Posts_Per_Day',\n",
        "    'Likes_Received_Per_Day', 'Comments_Received_Per_Day',\n",
        "    'Messages_Sent_Per_Day'\n",
        "]\n",
        "new_data = new_data[feature_cols]\n",
        "\n",
        "# Predict emotions\n",
        "predicted_labels = nb_model.predict(new_data)\n",
        "predicted_emotions = le_emotion.inverse_transform(predicted_labels)\n",
        "\n",
        "# Display predictions\n",
        "print(\"Predicted Emotions for New Users:\")\n",
        "for i, emotion in enumerate(predicted_emotions):\n",
        "    print(f\"User {i + 1}: {emotion}\")"
      ],
      "metadata": {
        "id": "g_KYXiGqlOe_",
        "colab": {
          "base_uri": "https://localhost:8080/"
        },
        "outputId": "f5996dda-0057-47c5-99a7-841a47d33565"
      },
      "execution_count": 15,
      "outputs": [
        {
          "output_type": "stream",
          "name": "stdout",
          "text": [
            "Predicted Emotions for New Users:\n",
            "User 1: Happiness\n",
            "User 2: Neutral\n"
          ]
        }
      ]
    },
    {
      "cell_type": "markdown",
      "metadata": {
        "id": "2a953293"
      },
      "source": [
        "# **Conclusion**\n",
        "\n",
        "This notebook successfully implements a simple Naive Bayes classifier to predict dominant emotions based on social media usage data. The data was preprocessed through cleaning, handling missing values, and encoding categorical features. The custom Bayes classifier was trained on the prepared data, achieving an accuracy of **85.4%**. The model's performance was further evaluated using a classification report, highlighting precision, recall, and F1-score for each dominant emotion, and a confusion matrix, which visually represents the model's predictions against the actual labels. Finally, the trained model and encoders were saved for future use and demonstrated with predictions on new data. While this model provides a baseline, further improvements could explore different classification algorithms, feature engineering techniques, and more extensive hyperparameter tuning."
      ]
    }
  ]
}